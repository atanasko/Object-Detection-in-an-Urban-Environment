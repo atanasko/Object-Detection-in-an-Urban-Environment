{
 "cells": [
  {
   "cell_type": "markdown",
   "metadata": {},
   "source": [
    "# Explore the dataset\n",
    "\n",
    "\n",
    "In this notebook, we will perform an EDA (Exploratory Data Analysis) on the processed Waymo dataset (data in the `processed` folder). In the first part, you will create a function to display "
   ]
  },
  {
   "cell_type": "code",
   "execution_count": null,
   "metadata": {},
   "outputs": [],
   "source": [
    "from utils import get_dataset\n",
    "import matplotlib.pyplot as plt\n",
    "from PIL import Image\n",
    "from matplotlib.patches import Rectangle\n",
    "%matplotlib inline"
   ]
  },
  {
   "cell_type": "code",
   "execution_count": null,
   "metadata": {},
   "outputs": [],
   "source": [
    "# dataset = get_dataset(\"PROCESSED TF RECORD PATH\")\n",
    "# dataset = get_dataset(\"/home/workspace/data/waymo/test/segment-10072231702153043603_5725_000_5745_000_with_camera_labels.tfrecord\")\n",
    "# dataset = get_dataset(\"/home/workspace/data/waymo/train/segment-10023947602400723454_1120_000_1140_000_with_camera_labels.tfrecord\")\n",
    "dataset = get_dataset(\"/home/workspace/data/waymo/train/segment-10231929575853664160_1160_000_1180_000_with_camera_labels.tfrecord\")\n",
    "# dataset = get_dataset(\"/home/workspace/data/waymo/train/segment-11674150664140226235_680_000_700_000_with_camera_labels.tfrecord\")\n",
    "# dataset = get_dataset(\"/home/workspace/data/waymo/train/segment-10770759614217273359_1465_000_1485_000_with_camera_labels.tfrecord\")\n",
    "# dataset = get_dataset(\"/home/workspace/data/waymo/train/segment-11392401368700458296_1086_429_1106_429_with_camera_labels.tfrecord\")\n",
    "# dataset = get_dataset(\"/home/workspace/data/waymo/train/segment-10096619443888687526_2820_000_2840_000_with_camera_labels.tfrecord\")\n",
    "# dataset = get_dataset(\"/home/workspace/data/waymo/train/segment-10927752430968246422_4940_000_4960_000_with_camera_labels.tfrecord\")"
   ]
  },
  {
   "cell_type": "markdown",
   "metadata": {},
   "source": [
    "## Write a function to display an image and the bounding boxes\n",
    "\n",
    "Implement the `display_instances` function below. This function takes a batch as an input and display an image with its corresponding bounding boxes. The only requirement is that the classes should be color coded (eg, vehicles in red, pedestrians in blue, cyclist in green)."
   ]
  },
  {
   "cell_type": "code",
   "execution_count": null,
   "metadata": {},
   "outputs": [],
   "source": [
    "def display_instances(batch):\n",
    "    \"\"\"\n",
    "    This function takes a batch from the dataset and display the image with \n",
    "    the associated bounding boxes.\n",
    "    \"\"\"\n",
    "    # ADD CODE HERE\n",
    "    image = batch[\"image\"].numpy()\n",
    "    img_shape = image.shape\n",
    "    print(img_shape)\n",
    "    \n",
    "    bboxes = batch['groundtruth_boxes'].numpy()\n",
    "    classes = batch['groundtruth_classes'].numpy()\n",
    "    \n",
    "    _, ax = plt.subplots(1, figsize=(20,10))\n",
    "     # color mapping of classes\n",
    "    colormap = {1: [1, 0, 0], 2: [0, 1, 0], 4: [0, 0, 1]}\n",
    "    \n",
    "    for cl, bb in zip(classes, bboxes):\n",
    "        y1, x1, y2, x2 = bb\n",
    "        y1 = y1*img_shape[0]\n",
    "        x1 = x1*img_shape[1]\n",
    "        y2 = y2*img_shape[0]\n",
    "        x2 = x2*img_shape[1] \n",
    "        rec = Rectangle((x1, y1), x2-x1, y2-y1, facecolor='none', edgecolor=colormap[cl], linewidth=2)\n",
    "        ax.add_patch(rec)\n",
    "    ax.imshow(image)\n",
    "    plt.show()"
   ]
  },
  {
   "cell_type": "markdown",
   "metadata": {},
   "source": [
    "## Display 10 images \n",
    "\n",
    "Using the dataset created in the second cell and the function you just coded, display 10 random images with the associated bounding boxes. You can use the methods `take` and `shuffle` on the dataset."
   ]
  },
  {
   "cell_type": "code",
   "execution_count": null,
   "metadata": {},
   "outputs": [],
   "source": [
    "## STUDENT SOLUTION HERE\n",
    "for batch in dataset.take(10):\n",
    "    display_instances(batch)"
   ]
  },
  {
   "cell_type": "markdown",
   "metadata": {},
   "source": [
    "## Additional EDA\n",
    "\n",
    "In this last part, you are free to perform any additional analysis of the dataset. What else would like to know about the data?\n",
    "For example, think about data distribution. So far, you have only looked at a single file..."
   ]
  },
  {
   "cell_type": "code",
   "execution_count": null,
   "metadata": {},
   "outputs": [],
   "source": [
    "import seaborn as sns\n",
    "\n",
    "labels = {1: 0, 2: 0, 4: 0 }\n",
    "labels_dist= {1:[], 2:[], 4:[]}\n",
    "for batches in dataset.take(20000):\n",
    "    #map using dict\n",
    "    try:\n",
    "        object_count = {1: 0, 2: 0, 4: 0 }\n",
    "        for l in batches[\"groundtruth_classes\"].numpy():\n",
    "            labels[l] += 1\n",
    "            object_count[l] += 1\n",
    "            labels_dist[l].append(object_count[l])\n",
    "    except Exception as err:\n",
    "        print(err)\n",
    "        \n",
    "\n",
    "label_map = {\"cars\": labels[1], \"pedestrians\": labels[2], \"cyclist\": labels[4]}\n",
    "keys = list(label_map.keys())\n",
    "vals = [label_map[k] for k in keys]\n",
    "# plot\n",
    "ax = sns.barplot(x=keys, y=vals)\n",
    "ax.set(xlabel='Classes', ylabel='Number of Objects', title='Distribution of Classes for 20000 random images')"
   ]
  },
  {
   "cell_type": "code",
   "execution_count": null,
   "metadata": {},
   "outputs": [],
   "source": []
  },
  {
   "cell_type": "code",
   "execution_count": null,
   "metadata": {},
   "outputs": [],
   "source": []
  }
 ],
 "metadata": {
  "kernelspec": {
   "display_name": "Python 3",
   "language": "python",
   "name": "python3"
  },
  "language_info": {
   "codemirror_mode": {
    "name": "ipython",
    "version": 3
   },
   "file_extension": ".py",
   "mimetype": "text/x-python",
   "name": "python",
   "nbconvert_exporter": "python",
   "pygments_lexer": "ipython3",
   "version": "3.7.3"
  }
 },
 "nbformat": 4,
 "nbformat_minor": 4
}
